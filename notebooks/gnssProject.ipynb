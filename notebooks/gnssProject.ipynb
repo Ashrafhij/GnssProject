{
 "cells": [
  {
   "attachments": {},
   "cell_type": "markdown",
   "metadata": {
    "collapsed": false
   },
   "source": [
    "# Gnss"
   ]
  },
  {
   "cell_type": "code",
   "execution_count": 62,
   "metadata": {
    "collapsed": false
   },
   "outputs": [],
   "source": [
    "import sys, os, csv\n",
    "parent_directory = os.path.split(os.getcwd())[0]\n",
    "ephemeris_data_directory = os.path.join(parent_directory, 'data')\n",
    "sys.path.insert(0, parent_directory)\n",
    "from datetime import datetime, timezone, timedelta\n",
    "import pandas as pd\n",
    "import numpy as np\n",
    "import matplotlib.pyplot as plt\n",
    "import navpy\n",
    "from gnssutils import EphemerisManager"
   ]
  },
  {
   "cell_type": "code",
   "execution_count": 63,
   "metadata": {},
   "outputs": [
    {
     "name": "stdout",
     "output_type": "stream",
     "text": [
      "Index(['utcTimeMillis', 'TimeNanos', 'LeapSecond', 'TimeUncertaintyNanos',\n",
      "       'FullBiasNanos', 'BiasNanos', 'BiasUncertaintyNanos',\n",
      "       'DriftNanosPerSecond', 'DriftUncertaintyNanosPerSecond',\n",
      "       'HardwareClockDiscontinuityCount', 'Svid', 'TimeOffsetNanos', 'State',\n",
      "       'ReceivedSvTimeNanos', 'ReceivedSvTimeUncertaintyNanos', 'Cn0DbHz',\n",
      "       'PseudorangeRateMetersPerSecond',\n",
      "       'PseudorangeRateUncertaintyMetersPerSecond',\n",
      "       'AccumulatedDeltaRangeState', 'AccumulatedDeltaRangeMeters',\n",
      "       'AccumulatedDeltaRangeUncertaintyMeters', 'CarrierFrequencyHz',\n",
      "       'CarrierCycles', 'CarrierPhase', 'CarrierPhaseUncertainty',\n",
      "       'MultipathIndicator', 'SnrInDb', 'ConstellationType', 'AgcDb',\n",
      "       'BasebandCn0DbHz', 'FullInterSignalBiasNanos',\n",
      "       'FullInterSignalBiasUncertaintyNanos', 'SatelliteInterSignalBiasNanos',\n",
      "       'SatelliteInterSignalBiasUncertaintyNanos', 'CodeType',\n",
      "       'ChipsetElapsedRealtimeNanos', 'Constellation', 'SvName'],\n",
      "      dtype='object')\n"
     ]
    }
   ],
   "source": [
    "# Get path to sample file in data directory, which is located in the parent directory of this notebook\n",
    "input_filepath = os.path.join(parent_directory, 'data', 'sample', 'gnss_log_2024_04_13_19_53_33.txt')\n",
    "\n",
    "with open(input_filepath) as csvfile:\n",
    "    reader = csv.reader(csvfile)\n",
    "    for row in reader:\n",
    "        if row[0][0] == '#':\n",
    "            if 'Fix' in row[0]:\n",
    "                android_fixes = [row[1:]]\n",
    "            elif 'Raw' in row[0]:\n",
    "                measurements = [row[1:]]\n",
    "        else:\n",
    "            if row[0] == 'Fix':\n",
    "                android_fixes.append(row[1:])\n",
    "            elif row[0] == 'Raw':\n",
    "                measurements.append(row[1:])\n",
    "\n",
    "android_fixes = pd.DataFrame(android_fixes[1:], columns = android_fixes[0])\n",
    "measurements = pd.DataFrame(measurements[1:], columns = measurements[0])\n",
    "\n",
    "# Format satellite IDs\n",
    "measurements.loc[measurements['Svid'].str.len() == 1, 'Svid'] = '0' + measurements['Svid']\n",
    "measurements.loc[measurements['ConstellationType'] == '1', 'Constellation'] = 'G'\n",
    "measurements.loc[measurements['ConstellationType'] == '3', 'Constellation'] = 'R'\n",
    "measurements['SvName'] = measurements['Constellation'] + measurements['Svid']\n",
    "\n",
    "# Remove all non-GPS measurements\n",
    "measurements = measurements.loc[measurements['Constellation'] == 'G']\n",
    "\n",
    "# Convert columns to numeric representation\n",
    "measurements['Cn0DbHz'] = pd.to_numeric(measurements['Cn0DbHz'])\n",
    "measurements['TimeNanos'] = pd.to_numeric(measurements['TimeNanos'])\n",
    "measurements['FullBiasNanos'] = pd.to_numeric(measurements['FullBiasNanos'])\n",
    "measurements['ReceivedSvTimeNanos']  = pd.to_numeric(measurements['ReceivedSvTimeNanos'])\n",
    "measurements['PseudorangeRateMetersPerSecond'] = pd.to_numeric(measurements['PseudorangeRateMetersPerSecond'])\n",
    "measurements['ReceivedSvTimeUncertaintyNanos'] = pd.to_numeric(measurements['ReceivedSvTimeUncertaintyNanos'])\n",
    "\n",
    "# A few measurement values are not provided by all phones\n",
    "# We'll check for them and initialize them with zeros if missing\n",
    "if 'BiasNanos' in measurements.columns:\n",
    "    measurements['BiasNanos'] = pd.to_numeric(measurements['BiasNanos'])\n",
    "else:\n",
    "    measurements['BiasNanos'] = 0\n",
    "if 'TimeOffsetNanos' in measurements.columns:\n",
    "    measurements['TimeOffsetNanos'] = pd.to_numeric(measurements['TimeOffsetNanos'])\n",
    "else:\n",
    "    measurements['TimeOffsetNanos'] = 0\n",
    "\n",
    "print(measurements.columns)"
   ]
  },
  {
   "cell_type": "markdown",
   "metadata": {},
   "source": [
    "TimeStamp"
   ]
  },
  {
   "cell_type": "code",
   "execution_count": 64,
   "metadata": {},
   "outputs": [],
   "source": [
    "measurements['GpsTimeNanos'] = measurements['TimeNanos'] - (measurements['FullBiasNanos'] - measurements['BiasNanos'])\n",
    "gpsepoch = datetime(1980, 1, 6, 0, 0, 0)\n",
    "measurements['UnixTime'] = pd.to_datetime(measurements['GpsTimeNanos'], utc = True, origin=gpsepoch)\n",
    "measurements['UnixTime'] = measurements['UnixTime']\n",
    "\n",
    "# Split data into measurement epochs\n",
    "measurements['Epoch'] = 0\n",
    "measurements.loc[measurements['UnixTime'] - measurements['UnixTime'].shift() > timedelta(milliseconds=200), 'Epoch'] = 1\n",
    "measurements['Epoch'] = measurements['Epoch'].cumsum()"
   ]
  },
  {
   "cell_type": "code",
   "execution_count": 65,
   "metadata": {},
   "outputs": [],
   "source": [
    "WEEKSEC = 604800\n",
    "LIGHTSPEED = 2.99792458e8\n",
    "\n",
    "# This should account for rollovers since it uses a week number specific to each measurement\n",
    "\n",
    "measurements['tRxGnssNanos'] = measurements['TimeNanos'] + measurements['TimeOffsetNanos'] - (measurements['FullBiasNanos'].iloc[0] + measurements['BiasNanos'].iloc[0])\n",
    "measurements['GpsWeekNumber'] = np.floor(1e-9 * measurements['tRxGnssNanos'] / WEEKSEC)\n",
    "measurements['tRxSeconds'] = 1e-9*measurements['tRxGnssNanos'] - WEEKSEC * measurements['GpsWeekNumber']\n",
    "measurements['tTxSeconds'] = 1e-9*(measurements['ReceivedSvTimeNanos'] + measurements['TimeOffsetNanos'])\n",
    "# Calculate pseudorange in seconds\n",
    "measurements['prSeconds'] = measurements['tRxSeconds'] - measurements['tTxSeconds']\n",
    "\n",
    "# Conver to meters\n",
    "measurements['PrM'] = LIGHTSPEED * measurements['prSeconds']\n",
    "measurements['PrSigmaM'] = LIGHTSPEED * 1e-9 * measurements['ReceivedSvTimeUncertaintyNanos']"
   ]
  },
  {
   "cell_type": "markdown",
   "metadata": {},
   "source": [
    "# Retrieving Ephemeris Data"
   ]
  },
  {
   "cell_type": "code",
   "execution_count": 66,
   "metadata": {},
   "outputs": [
    {
     "name": "stdout",
     "output_type": "stream",
     "text": [
      "2024-04-13 16:53:51.426041+00:00\n",
      "                                  UnixTime     tTxSeconds  GpsWeekNumber\n",
      "SvName                                                                  \n",
      "G10    2024-04-13 16:53:51.426041600+00:00  579231.349849         2309.0\n",
      "G21    2024-04-13 16:53:51.426041600+00:00  579231.353770         2309.0\n",
      "G27    2024-04-13 16:53:51.426041600+00:00  579231.351922         2309.0\n",
      "G32    2024-04-13 16:53:51.426041600+00:00  579231.354381         2309.0\n",
      "G08    2024-04-13 16:53:51.426041600+00:00  579231.355459         2309.0\n"
     ]
    }
   ],
   "source": [
    "manager = EphemerisManager(ephemeris_data_directory)\n",
    "\n",
    "epoch = 0\n",
    "num_sats = 0\n",
    "while num_sats < 5 :\n",
    "    one_epoch = measurements.loc[(measurements['Epoch'] == epoch) & (measurements['prSeconds'] < 0.1)].drop_duplicates(subset='SvName')\n",
    "    timestamp = one_epoch.iloc[0]['UnixTime'].to_pydatetime(warn=False)\n",
    "    one_epoch.set_index('SvName', inplace=True)\n",
    "    num_sats = len(one_epoch.index)\n",
    "    epoch += 1\n",
    "\n",
    "sats = one_epoch.index.unique().tolist()\n",
    "ephemeris = manager.get_ephemeris(timestamp, sats)\n",
    "print(timestamp)\n",
    "print(one_epoch[['UnixTime', 'tTxSeconds', 'GpsWeekNumber']])"
   ]
  },
  {
   "cell_type": "code",
   "execution_count": 67,
   "metadata": {},
   "outputs": [
    {
     "name": "stdout",
     "output_type": "stream",
     "text": [
      "             t_k   delT_sv           x_k           y_k           z_k\n",
      "sv                                                                  \n",
      "G08  3231.355459  0.000120  2.502364e+07  4.783846e+06  8.137692e+06\n",
      "G10  3247.349849 -0.000008 -1.620082e+06  1.732768e+07  2.017249e+07\n",
      "G21  3231.353770  0.000127  1.575745e+07  1.890976e+06  2.185636e+07\n",
      "G27  3231.351922 -0.000018  2.309844e+07  1.330337e+07 -3.014966e+06\n",
      "G32  3231.354381 -0.000618  7.810469e+06  1.784981e+07  1.835083e+07\n"
     ]
    }
   ],
   "source": [
    "def calculate_satellite_position(ephemeris, transmit_time):\n",
    "    mu = 3.986005e14\n",
    "    OmegaDot_e = 7.2921151467e-5\n",
    "    F = -4.442807633e-10\n",
    "    sv_position = pd.DataFrame()\n",
    "    sv_position['sv']= ephemeris.index\n",
    "    sv_position.set_index('sv', inplace=True)\n",
    "    sv_position['t_k'] = transmit_time - ephemeris['t_oe']\n",
    "    A = ephemeris['sqrtA'].pow(2)\n",
    "    n_0 = np.sqrt(mu / A.pow(3))\n",
    "    n = n_0 + ephemeris['deltaN']\n",
    "    M_k = ephemeris['M_0'] + n * sv_position['t_k']\n",
    "    E_k = M_k\n",
    "    err = pd.Series(data=[1]*len(sv_position.index))\n",
    "    i = 0\n",
    "    while err.abs().min() > 1e-8 and i < 10:\n",
    "        new_vals = M_k + ephemeris['e']*np.sin(E_k)\n",
    "        err = new_vals - E_k\n",
    "        E_k = new_vals\n",
    "        i += 1\n",
    "        \n",
    "    sinE_k = np.sin(E_k)\n",
    "    cosE_k = np.cos(E_k)\n",
    "    delT_r = F * ephemeris['e'].pow(ephemeris['sqrtA']) * sinE_k\n",
    "    delT_oc = transmit_time - ephemeris['t_oc']\n",
    "    sv_position['delT_sv'] = ephemeris['SVclockBias'] + ephemeris['SVclockDrift'] * delT_oc + ephemeris['SVclockDriftRate'] * delT_oc.pow(2)\n",
    "\n",
    "    v_k = np.arctan2(np.sqrt(1-ephemeris['e'].pow(2))*sinE_k,(cosE_k - ephemeris['e']))\n",
    "\n",
    "    Phi_k = v_k + ephemeris['omega']\n",
    "\n",
    "    sin2Phi_k = np.sin(2*Phi_k)\n",
    "    cos2Phi_k = np.cos(2*Phi_k)\n",
    "\n",
    "    du_k = ephemeris['C_us']*sin2Phi_k + ephemeris['C_uc']*cos2Phi_k\n",
    "    dr_k = ephemeris['C_rs']*sin2Phi_k + ephemeris['C_rc']*cos2Phi_k\n",
    "    di_k = ephemeris['C_is']*sin2Phi_k + ephemeris['C_ic']*cos2Phi_k\n",
    "\n",
    "    u_k = Phi_k + du_k\n",
    "\n",
    "    r_k = A*(1 - ephemeris['e']*np.cos(E_k)) + dr_k\n",
    "\n",
    "    i_k = ephemeris['i_0'] + di_k + ephemeris['IDOT']*sv_position['t_k']\n",
    "\n",
    "    x_k_prime = r_k*np.cos(u_k)\n",
    "    y_k_prime = r_k*np.sin(u_k)\n",
    "\n",
    "    Omega_k = ephemeris['Omega_0'] + (ephemeris['OmegaDot'] - OmegaDot_e)*sv_position['t_k'] - OmegaDot_e*ephemeris['t_oe']\n",
    "\n",
    "    sv_position['x_k'] = x_k_prime*np.cos(Omega_k) - y_k_prime*np.cos(i_k)*np.sin(Omega_k)\n",
    "    sv_position['y_k'] = x_k_prime*np.sin(Omega_k) + y_k_prime*np.cos(i_k)*np.cos(Omega_k)\n",
    "    sv_position['z_k'] = y_k_prime*np.sin(i_k)\n",
    "    return sv_position\n",
    "\n",
    "# Run the function and check out the results:\n",
    "sv_position = calculate_satellite_position(ephemeris, one_epoch['tTxSeconds'])\n",
    "print(sv_position)"
   ]
  },
  {
   "cell_type": "code",
   "execution_count": 68,
   "metadata": {},
   "outputs": [],
   "source": [
    "#initial guesses of receiver clock bias and position\n",
    "b0 = 0\n",
    "x0 = np.array([0, 0, 0])\n",
    "xs = sv_position[['x_k', 'y_k', 'z_k']].to_numpy()\n",
    "\n",
    "# Apply satellite clock bias to correct the measured pseudorange values\n",
    "pr = one_epoch['PrM'] + LIGHTSPEED * sv_position['delT_sv']\n",
    "pr = pr.to_numpy()"
   ]
  },
  {
   "cell_type": "code",
   "execution_count": 69,
   "metadata": {},
   "outputs": [
    {
     "name": "stdout",
     "output_type": "stream",
     "text": [
      "(32.16670230776335, 34.80470319700689, 1586.8688293797895)\n",
      "1.970217482666354e-06\n",
      "1673.9565935364653\n"
     ]
    }
   ],
   "source": [
    "def least_squares(xs, measured_pseudorange, x0, b0):\n",
    "    dx = 100*np.ones(3)\n",
    "    b = b0\n",
    "    # set up the G matrix with the right dimensions. We will later replace the first 3 columns\n",
    "    # note that b here is the clock bias in meters equivalent, so the actual clock bias is b/LIGHTSPEED\n",
    "    G = np.ones((measured_pseudorange.size, 4))\n",
    "    iterations = 0\n",
    "    while np.linalg.norm(dx) > 1e-3:\n",
    "        # Eq. (2):\n",
    "        r = np.linalg.norm(xs - x0, axis=1)\n",
    "        # Eq. (1):\n",
    "        phat = r + b0\n",
    "        # Eq. (3):\n",
    "        deltaP = measured_pseudorange - phat\n",
    "        G[:, 0:3] = -(xs - x0) / r[:, None]\n",
    "        # Eq. (4):\n",
    "        sol = np.linalg.inv(np.transpose(G) @ G) @ np.transpose(G) @ deltaP\n",
    "        # Eq. (5):\n",
    "        dx = sol[0:3]\n",
    "        db = sol[3]\n",
    "        x0 = x0 + dx\n",
    "        b0 = b0 + db\n",
    "    norm_dp = np.linalg.norm(deltaP)\n",
    "    return x0, b0, norm_dp\n",
    "\n",
    "x, b, dp = least_squares(xs, pr, x0, b0)\n",
    "print(navpy.ecef2lla(x))\n",
    "print(b/LIGHTSPEED)\n",
    "print(dp)"
   ]
  },
  {
   "cell_type": "code",
   "execution_count": 70,
   "metadata": {},
   "outputs": [
    {
     "name": "stderr",
     "output_type": "stream",
     "text": [
      "c:\\Users\\admin\\Desktop\\AR\\GnssProject\\gnssutils\\ephemeris_manager.py:32: FutureWarning: In a future version of pandas all arguments of DataFrame.drop except for the argument 'labels' will be keyword-only\n",
      "  data = data.sort_values('time').groupby(\n"
     ]
    }
   ],
   "source": [
    "ecef_list = []\n",
    "for epoch in measurements['Epoch'].unique():\n",
    "    one_epoch = measurements.loc[(measurements['Epoch'] == epoch) & (measurements['prSeconds'] < 0.1)] \n",
    "    one_epoch = one_epoch.drop_duplicates(subset='SvName').set_index('SvName')\n",
    "    if len(one_epoch.index) > 4:\n",
    "        timestamp = one_epoch.iloc[0]['UnixTime'].to_pydatetime(warn=False)\n",
    "        sats = one_epoch.index.unique().tolist()\n",
    "        ephemeris = manager.get_ephemeris(timestamp, sats)\n",
    "        sv_position = calculate_satellite_position(ephemeris, one_epoch['tTxSeconds'])\n",
    "\n",
    "        xs = sv_position[['x_k', 'y_k', 'z_k']].to_numpy()\n",
    "        pr = one_epoch['PrM'] + LIGHTSPEED * sv_position['delT_sv']\n",
    "        pr = pr.to_numpy()\n",
    "\n",
    "        x, b, dp = least_squares(xs, pr, x, b)\n",
    "        ecef_list.append(x)"
   ]
  },
  {
   "cell_type": "code",
   "execution_count": 71,
   "metadata": {},
   "outputs": [
    {
     "name": "stdout",
     "output_type": "stream",
     "text": [
      "Unexpected exception formatting exception. Falling back to standard exception\n"
     ]
    },
    {
     "name": "stderr",
     "output_type": "stream",
     "text": [
      "Traceback (most recent call last):\n",
      "  File \"C:\\Users\\admin\\AppData\\Local\\Packages\\PythonSoftwareFoundation.Python.3.9_qbz5n2kfra8p0\\LocalCache\\local-packages\\Python39\\site-packages\\IPython\\core\\interactiveshell.py\", line 3460, in run_code\n",
      "    exec(code_obj, self.user_global_ns, self.user_ns)\n",
      "  File \"C:\\Users\\admin\\AppData\\Local\\Temp\\ipykernel_16220\\626772598.py\", line 14, in <module>\n",
      "    lla_df.to_csv('calculated_postion.csv',index=False)\n",
      "  File \"C:\\Users\\admin\\AppData\\Local\\Packages\\PythonSoftwareFoundation.Python.3.9_qbz5n2kfra8p0\\LocalCache\\local-packages\\Python39\\site-packages\\pandas\\core\\generic.py\", line 3466, in to_csv\n",
      "    .. versionchanged:: 2.0.0\n",
      "  File \"C:\\Users\\admin\\AppData\\Local\\Packages\\PythonSoftwareFoundation.Python.3.9_qbz5n2kfra8p0\\LocalCache\\local-packages\\Python39\\site-packages\\pandas\\io\\formats\\format.py\", line 1078, in to_csv\n",
      "  File \"C:\\Users\\admin\\AppData\\Local\\Packages\\PythonSoftwareFoundation.Python.3.9_qbz5n2kfra8p0\\LocalCache\\local-packages\\Python39\\site-packages\\pandas\\io\\formats\\csvs.py\", line 24, in <module>\n",
      "    from pandas._typing import SequenceNotStr\n",
      "ImportError: cannot import name 'SequenceNotStr' from 'pandas._typing' (C:\\Users\\admin\\AppData\\Local\\Packages\\PythonSoftwareFoundation.Python.3.9_qbz5n2kfra8p0\\LocalCache\\local-packages\\Python39\\site-packages\\pandas\\_typing.py)\n",
      "\n",
      "During handling of the above exception, another exception occurred:\n",
      "\n",
      "Traceback (most recent call last):\n",
      "  File \"C:\\Users\\admin\\AppData\\Local\\Packages\\PythonSoftwareFoundation.Python.3.9_qbz5n2kfra8p0\\LocalCache\\local-packages\\Python39\\site-packages\\IPython\\core\\interactiveshell.py\", line 2057, in showtraceback\n",
      "    stb = self.InteractiveTB.structured_traceback(\n",
      "  File \"C:\\Users\\admin\\AppData\\Local\\Packages\\PythonSoftwareFoundation.Python.3.9_qbz5n2kfra8p0\\LocalCache\\local-packages\\Python39\\site-packages\\IPython\\core\\ultratb.py\", line 1118, in structured_traceback\n",
      "    return FormattedTB.structured_traceback(\n",
      "  File \"C:\\Users\\admin\\AppData\\Local\\Packages\\PythonSoftwareFoundation.Python.3.9_qbz5n2kfra8p0\\LocalCache\\local-packages\\Python39\\site-packages\\IPython\\core\\ultratb.py\", line 1012, in structured_traceback\n",
      "    return VerboseTB.structured_traceback(\n",
      "  File \"C:\\Users\\admin\\AppData\\Local\\Packages\\PythonSoftwareFoundation.Python.3.9_qbz5n2kfra8p0\\LocalCache\\local-packages\\Python39\\site-packages\\IPython\\core\\ultratb.py\", line 865, in structured_traceback\n",
      "    formatted_exception = self.format_exception_as_a_whole(etype, evalue, etb, number_of_lines_of_context,\n",
      "  File \"C:\\Users\\admin\\AppData\\Local\\Packages\\PythonSoftwareFoundation.Python.3.9_qbz5n2kfra8p0\\LocalCache\\local-packages\\Python39\\site-packages\\IPython\\core\\ultratb.py\", line 818, in format_exception_as_a_whole\n",
      "    frames.append(self.format_record(r))\n",
      "  File \"C:\\Users\\admin\\AppData\\Local\\Packages\\PythonSoftwareFoundation.Python.3.9_qbz5n2kfra8p0\\LocalCache\\local-packages\\Python39\\site-packages\\IPython\\core\\ultratb.py\", line 736, in format_record\n",
      "    result += ''.join(_format_traceback_lines(frame_info.lines, Colors, self.has_colors, lvals))\n",
      "  File \"C:\\Users\\admin\\AppData\\Local\\Packages\\PythonSoftwareFoundation.Python.3.9_qbz5n2kfra8p0\\LocalCache\\local-packages\\Python39\\site-packages\\stack_data\\utils.py\", line 144, in cached_property_wrapper\n",
      "    value = obj.__dict__[self.func.__name__] = self.func(obj)\n",
      "  File \"C:\\Users\\admin\\AppData\\Local\\Packages\\PythonSoftwareFoundation.Python.3.9_qbz5n2kfra8p0\\LocalCache\\local-packages\\Python39\\site-packages\\stack_data\\core.py\", line 734, in lines\n",
      "    pieces = self.included_pieces\n",
      "  File \"C:\\Users\\admin\\AppData\\Local\\Packages\\PythonSoftwareFoundation.Python.3.9_qbz5n2kfra8p0\\LocalCache\\local-packages\\Python39\\site-packages\\stack_data\\utils.py\", line 144, in cached_property_wrapper\n",
      "    value = obj.__dict__[self.func.__name__] = self.func(obj)\n",
      "  File \"C:\\Users\\admin\\AppData\\Local\\Packages\\PythonSoftwareFoundation.Python.3.9_qbz5n2kfra8p0\\LocalCache\\local-packages\\Python39\\site-packages\\stack_data\\core.py\", line 681, in included_pieces\n",
      "    pos = scope_pieces.index(self.executing_piece)\n",
      "  File \"C:\\Users\\admin\\AppData\\Local\\Packages\\PythonSoftwareFoundation.Python.3.9_qbz5n2kfra8p0\\LocalCache\\local-packages\\Python39\\site-packages\\stack_data\\utils.py\", line 144, in cached_property_wrapper\n",
      "    value = obj.__dict__[self.func.__name__] = self.func(obj)\n",
      "  File \"C:\\Users\\admin\\AppData\\Local\\Packages\\PythonSoftwareFoundation.Python.3.9_qbz5n2kfra8p0\\LocalCache\\local-packages\\Python39\\site-packages\\stack_data\\core.py\", line 660, in executing_piece\n",
      "    return only(\n",
      "  File \"C:\\Users\\admin\\AppData\\Local\\Packages\\PythonSoftwareFoundation.Python.3.9_qbz5n2kfra8p0\\LocalCache\\local-packages\\Python39\\site-packages\\executing\\executing.py\", line 190, in only\n",
      "    raise NotOneValueFound('Expected one value, found 0')\n",
      "executing.executing.NotOneValueFound: Expected one value, found 0\n"
     ]
    }
   ],
   "source": [
    "# Perform coordinate transformations using the Navpy library\n",
    "\n",
    "ecef_array = np.stack(ecef_list, axis=0)\n",
    "lla_array = np.stack(navpy.ecef2lla(ecef_array), axis=1)\n",
    "\n",
    "# Extract the first position as a reference for the NED transformation\n",
    "ref_lla = lla_array[0, :]\n",
    "ned_array = navpy.ecef2ned(ecef_array, ref_lla[0], ref_lla[1], ref_lla[2])\n",
    "\n",
    "# Convert back to Pandas and save to csv\n",
    "lla_df = pd.DataFrame(lla_array, columns=['Latitude', 'Longitude', 'Altitude'])\n",
    "ned_df = pd.DataFrame(ned_array, columns=['N', 'E', 'D'])\n",
    "\n",
    "lla_df.to_csv('calculated_postion.csv',index=False)\n",
    "android_fixes.to_csv('android_position.csv')\n",
    "\n",
    "# Plot\n",
    "plt.style.use('dark_background')\n",
    "plt.plot(ned_df['E'], ned_df['N'])\n",
    "plt.title('Position Offset from First Epoch')\n",
    "plt.xlabel(\"East (m)\")\n",
    "plt.ylabel(\"North (m)\")\n",
    "plt.gca().set_aspect('equal', adjustable='box')"
   ]
  }
 ],
 "metadata": {
  "kernelspec": {
   "display_name": "Python 3.9.13 64-bit (microsoft store)",
   "language": "python",
   "name": "python3"
  },
  "language_info": {
   "codemirror_mode": {
    "name": "ipython",
    "version": 3
   },
   "file_extension": ".py",
   "mimetype": "text/x-python",
   "name": "python",
   "nbconvert_exporter": "python",
   "pygments_lexer": "ipython3",
   "version": "3.9.13"
  },
  "vscode": {
   "interpreter": {
    "hash": "09e83f04e46517ea1a03852b22098722c60f5ebfc3f611b0edf7286ad5c15192"
   }
  }
 },
 "nbformat": 4,
 "nbformat_minor": 0
}
